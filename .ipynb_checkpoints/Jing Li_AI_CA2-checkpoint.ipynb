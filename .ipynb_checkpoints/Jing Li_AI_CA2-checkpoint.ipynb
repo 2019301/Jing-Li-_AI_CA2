{
 "cells": [
  {
   "cell_type": "markdown",
   "id": "3950e1df",
   "metadata": {},
   "source": [
    "# Questions\n",
    "\n",
    "### 1 A puzzle has multiple ways of reaching the end solution. Fig. 1 shows a graph that represents all possible routes to the solution. The starting point of the game is reparesented by A, the solution is represented by S. The other points in the gragh are possible intermediary stages."
   ]
  },
  {
   "cell_type": "code",
   "execution_count": 1,
   "id": "3a8b3e59",
   "metadata": {},
   "outputs": [
    {
     "data": {
      "text/html": [
       "<img src=\"https://github.com/2019301/Jing-Li-_AI_CA2/blob/main/img1%20.jpg?raw=true\"/>"
      ],
      "text/plain": [
       "<IPython.core.display.Image object>"
      ]
     },
     "execution_count": 1,
     "metadata": {},
     "output_type": "execute_result"
    }
   ],
   "source": [
    "from IPython.display import Image\n",
    "from IPython.core.display import HTML \n",
    "Image(url= \"https://github.com/2019301/Jing-Li-_AI_CA2/blob/main/img1%20.jpg?raw=true\")"
   ]
  },
  {
   "cell_type": "markdown",
   "id": "1ae95dc2",
   "metadata": {},
   "source": [
    "##                                                              Fig. 1\n",
    "(a) The graph in Fig. 1 is a visualisation of the problem.\n",
    "(i) Identify the differences between a graph and a tree. "
   ]
  },
  {
   "cell_type": "markdown",
   "id": "3f780106",
   "metadata": {},
   "source": [
    "(ii) Explain in detail how the graph is an abstraction of the problem."
   ]
  },
  {
   "cell_type": "markdown",
   "id": "280b6879",
   "metadata": {},
   "source": [
    "(iii) Identify the advantages of using a visualisation such as the one shown in Fig. 1."
   ]
  },
  {
   "cell_type": "markdown",
   "id": "219e69f6",
   "metadata": {},
   "source": [
    "#### (b) Demonstrate how Dijkstra’s algorithm would find the shortest path to the solution in Fig.1 through diagrams and written explanation of each stage."
   ]
  },
  {
   "cell_type": "markdown",
   "id": "79596ce7",
   "metadata": {},
   "source": [
    "### 2 The creator of the puzzle has been told that the A* algorithm is more efficient at finding the shortest path because it uses heuristics. Compare the performance of Dijkstra’s algorithm and the A* search algorithm, referring to heuristics, to find the shortest path to the problem by implementing both algorithms programmatically and comparing the solutions generated in Mark-down. Refer to the complexity of the algorithms and compare the actual time it takes for the solutions to be processed."
   ]
  },
  {
   "cell_type": "code",
   "execution_count": null,
   "id": "828fbe5d",
   "metadata": {},
   "outputs": [],
   "source": []
  },
  {
   "cell_type": "markdown",
   "id": "e0952c1e",
   "metadata": {},
   "source": []
  }
 ],
 "metadata": {
  "kernelspec": {
   "display_name": "Python 3 (ipykernel)",
   "language": "python",
   "name": "python3"
  },
  "language_info": {
   "codemirror_mode": {
    "name": "ipython",
    "version": 3
   },
   "file_extension": ".py",
   "mimetype": "text/x-python",
   "name": "python",
   "nbconvert_exporter": "python",
   "pygments_lexer": "ipython3",
   "version": "3.9.12"
  }
 },
 "nbformat": 4,
 "nbformat_minor": 5
}
