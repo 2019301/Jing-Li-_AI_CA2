{
 "cells": [
  {
   "cell_type": "markdown",
   "id": "3950e1df",
   "metadata": {},
   "source": [
    "# Questions\n",
    "\n",
    "## 1 A puzzle has multiple ways of reaching the end solution. Fig. 1 shows a graph that represents all possible routes to the solution. The starting point of the game is reparesented by A, the solution is represented by S. The other points in the gragh are possible intermediary stages."
   ]
  },
  {
   "cell_type": "code",
   "execution_count": 2,
   "id": "3a8b3e59",
   "metadata": {},
   "outputs": [
    {
     "data": {
      "text/html": [
       "<img src=\"https://github.com/2019301/Jing-Li-_AI_CA2/blob/main/Fig.%201.jpg?raw=true\"/>"
      ],
      "text/plain": [
       "<IPython.core.display.Image object>"
      ]
     },
     "execution_count": 2,
     "metadata": {},
     "output_type": "execute_result"
    }
   ],
   "source": [
    "from IPython.display import Image\n",
    "from IPython.core.display import HTML \n",
    "Image(url= \"https://github.com/2019301/Jing-Li-_AI_CA2/blob/main/Fig.%201.jpg?raw=true\")"
   ]
  },
  {
   "cell_type": "markdown",
   "id": "78684330",
   "metadata": {},
   "source": [
    "##                                                              Fig. 1\n",
    "### (a) The graph in Fig. 1 is a visualisation of the problem.\n",
    "\n",
    "### (i) Identify the differences between a graph and a tree. "
   ]
  },
  {
   "cell_type": "markdown",
   "id": "e91ac6fe",
   "metadata": {},
   "source": [
    "\n",
    "   "
   ]
  },
  {
   "cell_type": "markdown",
   "id": "79ad14c5",
   "metadata": {},
   "source": [
    "### (ii) Explain in detail how the graph is an abstraction of the problem."
   ]
  },
  {
   "cell_type": "markdown",
   "id": "3882e386",
   "metadata": {},
   "source": []
  },
  {
   "cell_type": "markdown",
   "id": "b53bf202",
   "metadata": {},
   "source": [
    "### (iii) Identify the advantages of using a visualisation such as the one shown in Fig. 1."
   ]
  },
  {
   "cell_type": "markdown",
   "id": "853c60c3",
   "metadata": {},
   "source": []
  },
  {
   "cell_type": "markdown",
   "id": "bd203e9d",
   "metadata": {},
   "source": [
    "### (b) Demonstrate how Dijkstra’s algorithm would find the shortest path to the solution in Fig.1 through diagrams and written explanation of each stage."
   ]
  },
  {
   "cell_type": "markdown",
   "id": "82993a0f",
   "metadata": {},
   "source": [
    "<font color = blue>Calculate the shortest distance from A to all other points using Dijkstra's algorithm</font>** "
   ]
  },
  {
   "cell_type": "code",
   "execution_count": 55,
   "id": "8934c8b2",
   "metadata": {},
   "outputs": [],
   "source": [
    "import heapq\n",
    "\n",
    "\n",
    "def calculate_distances(graph, starting_vertex):\n",
    "     # Initialise the distance dictionary, set the distance of the start point to 0 and the rest to infinity\n",
    "    distances = {vertex: float('infinity') for vertex in graph}\n",
    "    distances[starting_vertex] = 0\n",
    "\n",
    "    \n",
    "    # Initialise the priority queue and set the start point distance to 0\n",
    "    pq = [(0, starting_vertex)]\n",
    "    while len(pq) > 0:\n",
    "        current_distance, current_vertex = heapq.heappop(pq)\n",
    "\n",
    "        # If the distance to the current point has already been calculated, skip the\n",
    "        if current_distance > distances[current_vertex]:\n",
    "            continue\n",
    "\n",
    "        for neighbor, weight in graph[current_vertex].items():\n",
    "            distance = current_distance + weight\n",
    "\n",
    "           # Update the distance value in the dictionary only if the newly calculated distance is less than the known distance\n",
    "            if distance < distances[neighbor]:\n",
    "                distances[neighbor] = distance\n",
    "                heapq.heappush(pq, (distance, neighbor))\n",
    "\n",
    "    return distances"
   ]
  },
  {
   "cell_type": "code",
   "execution_count": 56,
   "id": "93151d2c",
   "metadata": {},
   "outputs": [],
   "source": [
    "# Defining the graph based on the provided edge weights\n",
    "graph = {\n",
    "    \"A\": {\"B\": 1, \"C\": 5, \"H\": 2},\n",
    "    \"B\": {\"A\": 1, \"C\": 2, \"D\": 4},\n",
    "    \"C\": {\"A\": 5, \"B\": 2, \"G\": 1},\n",
    "    \"D\": {\"B\": 4, \"L\": 7, \"F\": 7, \"E\": 4},\n",
    "    \"E\": {\"D\": 4, \"F\": 1, \"W\": 6},\n",
    "    \"F\": {\"D\": 7, \"G\": 2, \"E\": 1},\n",
    "    \"G\": {\"C\": 1, \"L\": 3, \"F\": 2},\n",
    "    \"H\": {\"A\": 2, \"K\": 5, \"J\": 9},\n",
    "    \"J\": {\"H\": 9, \"K\": 3, \"N\": 6},\n",
    "    \"K\": {\"H\": 5, \"J\": 3, \"L\": 5},\n",
    "    \"L\": {\"K\": 5, \"N\": 3, \"M\": 4, \"G\": 3, \"D\": 7, \"W\": 8, \"V\": 10},\n",
    "    \"M\": {\"L\": 4, \"Q\": 10, \"P\": 2},\n",
    "    \"N\": {\"L\": 3, \"J\": 6, \"P\": 4, \"S\": 7},\n",
    "    \"P\": {\"N\": 4, \"M\": 2, \"R\": 5},\n",
    "    \"Q\": {\"W\": 4, \"M\": 10, \"S\": 8},\n",
    "    \"R\": {\"P\": 5, \"S\": 4, \"T\": 3},\n",
    "    \"S\": {\"Q\": 8, \"V\": 6, \"R\": 4, \"T\": 4, \"U\": 2},\n",
    "    \"T\": {\"S\": 4, \"R\": 3, \"U\": 1},\n",
    "    \"U\": {\"S\": 2, \"T\": 1, \"V\": 3},\n",
    "    \"V\": {\"L\": 10, \"S\": 6, \"U\": 3, \"W\": 5},\n",
    "    \"W\": {\"L\": 8, \"E\": 6, \"V\": 5, \"Q\": 4}\n",
    "}"
   ]
  },
  {
   "cell_type": "code",
   "execution_count": 57,
   "id": "316949c3",
   "metadata": {},
   "outputs": [
    {
     "data": {
      "text/plain": [
       "{'A': {'B': 1, 'C': 5, 'H': 2},\n",
       " 'B': {'A': 1, 'C': 2, 'D': 4},\n",
       " 'C': {'A': 5, 'B': 2, 'G': 1},\n",
       " 'D': {'B': 4, 'L': 7, 'F': 7, 'E': 4},\n",
       " 'E': {'D': 4, 'F': 1, 'W': 6},\n",
       " 'F': {'D': 7, 'G': 2, 'E': 1},\n",
       " 'G': {'C': 1, 'L': 3, 'F': 2},\n",
       " 'H': {'A': 2, 'K': 5, 'J': 9},\n",
       " 'J': {'H': 9, 'K': 3, 'N': 6},\n",
       " 'K': {'H': 5, 'J': 3, 'L': 5},\n",
       " 'L': {'K': 5, 'N': 3, 'M': 4, 'G': 3, 'D': 7, 'W': 8, 'V': 10},\n",
       " 'M': {'L': 4, 'Q': 10, 'P': 2},\n",
       " 'N': {'L': 3, 'J': 6, 'P': 4, 'S': 7},\n",
       " 'P': {'N': 4, 'M': 2, 'R': 5},\n",
       " 'Q': {'W': 4, 'M': 10, 'S': 8},\n",
       " 'R': {'P': 5, 'S': 4, 'T': 3},\n",
       " 'S': {'Q': 8, 'V': 6, 'R': 4, 'T': 4, 'U': 2},\n",
       " 'T': {'S': 4, 'R': 3, 'U': 1},\n",
       " 'U': {'S': 2, 'T': 1, 'V': 3},\n",
       " 'V': {'L': 10, 'S': 6, 'U': 3, 'W': 5},\n",
       " 'W': {'L': 8, 'E': 6, 'V': 5, 'Q': 4}}"
      ]
     },
     "execution_count": 57,
     "metadata": {},
     "output_type": "execute_result"
    }
   ],
   "source": [
    "graph"
   ]
  },
  {
   "cell_type": "code",
   "execution_count": 58,
   "id": "300e77ff",
   "metadata": {},
   "outputs": [
    {
     "name": "stdout",
     "output_type": "stream",
     "text": [
      "{'A': 0, 'B': 1, 'C': 3, 'D': 5, 'E': 7, 'F': 6, 'G': 4, 'H': 2, 'J': 10, 'K': 7, 'L': 7, 'M': 11, 'N': 10, 'P': 13, 'Q': 17, 'R': 18, 'S': 17, 'T': 20, 'U': 19, 'V': 17, 'W': 13}\n"
     ]
    }
   ],
   "source": [
    "print(calculate_distances(graph, 'A'))"
   ]
  },
  {
   "cell_type": "markdown",
   "id": "fbd419c5",
   "metadata": {},
   "source": [
    "**<font color = blue>Based on the results above, the shortest neighbourhood distance was found for point A. Continue:</font>**"
   ]
  },
  {
   "cell_type": "markdown",
   "id": "c2067a33",
   "metadata": {},
   "source": [
    "**<font color = blue>Step-by-step analysis, In Fig. 1.</font>**\n",
    "\n",
    "**<font color = blue>1. starts with a distance of 0 for A and all other node distances are set to infinity.</font>**"
   ]
  },
  {
   "cell_type": "markdown",
   "id": "bfe616b0",
   "metadata": {},
   "source": [
    "**<font color = blue>2. choose A because it has the shortest distance (0) and then has more neighbours with the new A's.</font>**"
   ]
  },
  {
   "cell_type": "code",
   "execution_count": 59,
   "id": "698fe6d0",
   "metadata": {},
   "outputs": [],
   "source": [
    "distances_from_A = calculate_distances(graph, 'A')"
   ]
  },
  {
   "cell_type": "code",
   "execution_count": 60,
   "id": "4603cb61",
   "metadata": {},
   "outputs": [],
   "source": [
    "neighbors_distances = {node: distances_from_A[node] for node in graph['A'].keys()}"
   ]
  },
  {
   "cell_type": "code",
   "execution_count": 61,
   "id": "6153e2fe",
   "metadata": {},
   "outputs": [],
   "source": [
    "# Get the shortest neighbour and its distance\n",
    "closest_neighbor = min(neighbors_distances, key=neighbors_distances.get)\n",
    "closest_distance = neighbors_distances[closest_neighbor]"
   ]
  },
  {
   "cell_type": "code",
   "execution_count": 62,
   "id": "44c5b4ba",
   "metadata": {},
   "outputs": [
    {
     "name": "stdout",
     "output_type": "stream",
     "text": [
      "Starting from node A, the closest neighbor is: B with a distance of: 1\n"
     ]
    }
   ],
   "source": [
    "print(f\"Starting from node A, the closest neighbor is: {closest_neighbor} with a distance of: {closest_distance}\")"
   ]
  },
  {
   "cell_type": "markdown",
   "id": "358a1903",
   "metadata": {},
   "source": [
    "**<font color = blue>3. Next, select B, as it is the shortest distance available, and update all of B's neighbours.</font>**"
   ]
  },
  {
   "cell_type": "code",
   "execution_count": 43,
   "id": "b2301e66",
   "metadata": {},
   "outputs": [
    {
     "name": "stdout",
     "output_type": "stream",
     "text": [
      "Starting from node B, the closest neighbor is: A with a distance of: 1\n"
     ]
    }
   ],
   "source": [
    "distances_from_B = calculate_distances(graph, 'B')\n",
    "\n",
    "# 从 distances_from_B 中提取 B 的直接邻居的距离\n",
    "neighbors_distances_B = {node: distances_from_B[node] for node in graph['B'].keys()}\n",
    "\n",
    "# 获取距离最短的邻居及其距离\n",
    "closest_neighbor_B = min(neighbors_distances_B, key=neighbors_distances_B.get)\n",
    "closest_distance_B = neighbors_distances_B[closest_neighbor_B]\n",
    "\n",
    "print(f\"Starting from node B, the closest neighbor is: {closest_neighbor_B} with a distance of: {closest_distance_B}\")"
   ]
  },
  {
   "cell_type": "markdown",
   "id": "66995112",
   "metadata": {},
   "source": [
    "**<font color = blue>4. continue this process until we reach S and determine its shortest distance.</font>**"
   ]
  },
  {
   "cell_type": "code",
   "execution_count": 44,
   "id": "16b80338",
   "metadata": {},
   "outputs": [
    {
     "ename": "SyntaxError",
     "evalue": "invalid syntax (912562341.py, line 4)",
     "output_type": "error",
     "traceback": [
      "\u001b[1;36m  Input \u001b[1;32mIn [44]\u001b[1;36m\u001b[0m\n\u001b[1;33m    neighbors_distances_C = {node: distances_from_C[node] for node in graph['C'].}\u001b[0m\n\u001b[1;37m                                                                                 ^\u001b[0m\n\u001b[1;31mSyntaxError\u001b[0m\u001b[1;31m:\u001b[0m invalid syntax\n"
     ]
    }
   ],
   "source": [
    "distances_from_C = calculate_distances(graph, 'C')\n",
    "\n",
    "# Extract the distances of C's direct neighbours from distances_from_C \n",
    "neighbors_distances_C = {node: distances_from_C[node] for node in graph['C'].}\n",
    "\n",
    "# Get the shortest neighbour and its distance\n",
    "closest_neighbor_C = min(neighbors_distances_C, key=neighbors_distances_C.get)\n",
    "closest_distance_C = neighbors_distances_C[closest_neighbor_C]\n",
    "\n",
    "print(f\"Starting from node C , the closest neighbor is: {closest_neighbor_C} with a distance of: {closest_distance_C}\")"
   ]
  },
  {
   "cell_type": "code",
   "execution_count": 45,
   "id": "ea4f5578",
   "metadata": {},
   "outputs": [
    {
     "name": "stdout",
     "output_type": "stream",
     "text": [
      "Starting from node C , the closest neighbor is: G with a distance of: 1\n"
     ]
    }
   ],
   "source": [
    "neighbors_of_C = graph['C']\n",
    "closest_neighbor = min(neighbors_of_C, key=neighbors_of_C.get)\n",
    "closest_distance = neighbors_of_C[closest_neighbor]\n",
    "print(f\"Starting from node C , the closest neighbor is: {closest_neighbor_C} with a distance of: {closest_distance_C}\")"
   ]
  },
  {
   "cell_type": "code",
   "execution_count": 47,
   "id": "1230bf26",
   "metadata": {},
   "outputs": [
    {
     "name": "stdout",
     "output_type": "stream",
     "text": [
      "Starting from node G , the closest neighbor is: C with a distance of: 1\n"
     ]
    }
   ],
   "source": [
    "neighbors_of_G = graph['G']\n",
    "closest_neighbor_G = min(neighbors_of_G, key=neighbors_of_G.get)\n",
    "closest_distance_G = neighbors_of_G[closest_neighbor_G]\n",
    "print(f\"Starting from node G , the closest neighbor is: {closest_neighbor_G} with a distance of: {closest_distance_G}\")"
   ]
  },
  {
   "cell_type": "code",
   "execution_count": 51,
   "id": "5e0c3be1",
   "metadata": {},
   "outputs": [
    {
     "name": "stdout",
     "output_type": "stream",
     "text": [
      "Starting from node L , the closest neighbor is: N with a distance of: 3\n"
     ]
    }
   ],
   "source": [
    "neighbors_of_L = graph['L']\n",
    "closest_neighbor_L = min(neighbors_of_L, key=neighbors_of_L.get)\n",
    "closest_distance_L = neighbors_of_L[closest_neighbor_L]\n",
    "print(f\"Starting from node L , the closest neighbor is: {closest_neighbor_L} with a distance of: {closest_distance_L}\")"
   ]
  },
  {
   "cell_type": "code",
   "execution_count": 52,
   "id": "ae3624ab",
   "metadata": {},
   "outputs": [
    {
     "name": "stdout",
     "output_type": "stream",
     "text": [
      "Starting from node N , the closest neighbor is: L with a distance of: 3\n"
     ]
    }
   ],
   "source": [
    "neighbors_of_N = graph['N']\n",
    "closest_neighbor_N = min(neighbors_of_N, key=neighbors_of_N.get)\n",
    "closest_distance_N = neighbors_of_N[closest_neighbor_N]\n",
    "print(f\"Starting from node N , the closest neighbor is: {closest_neighbor_N} with a distance of: {closest_distance_N}\")"
   ]
  },
  {
   "cell_type": "code",
   "execution_count": 54,
   "id": "bb6fc8ec",
   "metadata": {},
   "outputs": [
    {
     "name": "stdout",
     "output_type": "stream",
     "text": [
      "Starting from node S , the closest neighbor is: U with a distance of: 2\n"
     ]
    }
   ],
   "source": [
    "neighbors_of_S = graph['S']\n",
    "closest_neighbor_S = min(neighbors_of_S, key=neighbors_of_S.get)\n",
    "closest_distance_S = neighbors_of_S[closest_neighbor_S]\n",
    "print(f\"Starting from node S , the closest neighbor is: {closest_neighbor_S} with a distance of: {closest_distance_S}\")"
   ]
  },
  {
   "cell_type": "code",
   "execution_count": null,
   "id": "4f0b0186",
   "metadata": {},
   "outputs": [],
   "source": []
  },
  {
   "cell_type": "code",
   "execution_count": null,
   "id": "1e1ebd90",
   "metadata": {},
   "outputs": [],
   "source": []
  },
  {
   "cell_type": "markdown",
   "id": "906a62bf",
   "metadata": {},
   "source": [
    "## 2 The creator of the puzzle has been told that the A* algorithm is more efficient at finding the shortest path because it uses heuristics. Compare the performance of Dijkstra’s algorithm and the A* search algorithm, referring to heuristics, to find the shortest path to the problem by implementing both algorithms programmatically and comparing the solutions generated in Mark-down. Refer to the complexity of the algorithms and compare the actual time it takes for the solutions to be processed."
   ]
  },
  {
   "cell_type": "markdown",
   "id": "d1ea55e0",
   "metadata": {},
   "source": [
    "set B**<font color = blue></font>**"
   ]
  },
  {
   "cell_type": "markdown",
   "id": "e0952c1e",
   "metadata": {},
   "source": []
  }
 ],
 "metadata": {
  "kernelspec": {
   "display_name": "Python 3 (ipykernel)",
   "language": "python",
   "name": "python3"
  },
  "language_info": {
   "codemirror_mode": {
    "name": "ipython",
    "version": 3
   },
   "file_extension": ".py",
   "mimetype": "text/x-python",
   "name": "python",
   "nbconvert_exporter": "python",
   "pygments_lexer": "ipython3",
   "version": "3.9.12"
  }
 },
 "nbformat": 4,
 "nbformat_minor": 5
}
