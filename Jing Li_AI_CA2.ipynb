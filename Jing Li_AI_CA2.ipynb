{
 "cells": [
  {
   "cell_type": "markdown",
   "id": "3950e1df",
   "metadata": {},
   "source": [
    "# Questions\n",
    "\n",
    "## 1 A puzzle has multiple ways of reaching the end solution. Fig. 1 shows a graph that represents all possible routes to the solution. The starting point of the game is reparesented by A, the solution is represented by S. The other points in the gragh are possible intermediary stages."
   ]
  },
  {
   "cell_type": "code",
   "execution_count": 2,
   "id": "3a8b3e59",
   "metadata": {},
   "outputs": [
    {
     "data": {
      "text/html": [
       "<img src=\"https://github.com/2019301/Jing-Li-_AI_CA2/blob/main/Fig.%201.jpg?raw=true\"/>"
      ],
      "text/plain": [
       "<IPython.core.display.Image object>"
      ]
     },
     "execution_count": 2,
     "metadata": {},
     "output_type": "execute_result"
    }
   ],
   "source": [
    "from IPython.display import Image\n",
    "from IPython.core.display import HTML \n",
    "Image(url= \"https://github.com/2019301/Jing-Li-_AI_CA2/blob/main/Fig.%201.jpg?raw=true\")"
   ]
  },
  {
   "cell_type": "markdown",
   "id": "78684330",
   "metadata": {},
   "source": [
    "##                                                              Fig. 1\n",
    "### (a) The graph in Fig. 1 is a visualisation of the problem.\n",
    "\n",
    "### (i) Identify the differences between a graph and a tree. "
   ]
  },
  {
   "cell_type": "markdown",
   "id": "5dc37eea",
   "metadata": {},
   "source": [
    "**<font color = blue>  -- Cycles vs. paths:</font>**\n",
    "\n",
    "**<font color = blue>Graphs may contain cycles, i.e., edges that start at a vertex and return to the same vertex, whereas there are no cycles in a tree, where each edge has a well-defined direction. In Figure 1, a loop is formed by going from A to C to G to F, and then F returns to C, so it is an instance of a graph.</font>**\n",
    "\n",
    "**<font color = blue>-- Number of edges:</font>** \n",
    "\n",
    "**<font color = blue>In a tree species, if n nodes, there must be n-1 edges, but in Figure 1, there are more than n-1 edges.</font>**\n",
    " \n",
    "**<font color = blue>-- Directionality: </font>**\n",
    "\n",
    "**<font color = blue>Graph 1 is a directed graph because its edges have a definite direction. Trees are also directional, but the direction is always from parent node to child node.</font>**\n",
    "\n",
    "**<font color = blue> --Root node: </font>**\n",
    "\n",
    "**<font color = blue>A tree has a specific node called the root node from which all other nodes can be accessed, but in Figure 1, there is no explicit root node and any node can be used as a starting point.</font>**\n",
    "\n",
    "**<font color = blue>--Connectivity: </font>**\n",
    "\n",
    "**<font color = blue>A graph is a set of vertices and edges, where each edge connects two vertices. A tree is a special kind of graph where there is only one path between any two vertices. It can be seen that there are multiple possible paths from A to S in Figure 1.</font>**\n",
    "   "
   ]
  },
  {
   "cell_type": "markdown",
   "id": "79ad14c5",
   "metadata": {},
   "source": [
    "### (ii) Explain in detail how the graph is an abstraction of the problem."
   ]
  },
  {
   "cell_type": "markdown",
   "id": "f74e7306",
   "metadata": {},
   "source": [
    "**<font color = blue>-Graphs are a very versatile data structure that can be used to represent a wide variety of real-world problems. For example, graphs can be used to represent roads between cities, airline routes, relationships in a social network, and so on. In this particular problem, the graph represents all possible paths from the starting state of the game to the solution.</font>**\n",
    "   \n",
    "**<font color = blue>   In Figure 1:</font>**\n",
    "\n",
    "**<font color = blue>- Nodes represent some state or configuration in the puzzle game.</font>**\n",
    "\n",
    "**<font color = blue>- Edges represent legal moves from one state to another.</font>**\n",
    "\n",
    "**<font color = blue>- The start node A represents the initial configuration of the puzzle.</font>**\n",
    "\n",
    "**<font color = blue>- The end node S represents the goal configuration or solution of the puzzle.</font>**\n",
    "\n",
    "**<font color = blue>The graph provides us with a visualisation of the path from the initial state to the goal state. It helps us to understand what intermediate states we may encounter in our search for a solution and shows all possible paths to reach the goal state.</font>**"
   ]
  },
  {
   "cell_type": "markdown",
   "id": "b53bf202",
   "metadata": {},
   "source": [
    "### (iii) Identify the advantages of using a visualisation such as the one shown in Fig. 1."
   ]
  },
  {
   "cell_type": "markdown",
   "id": "3d9bc543",
   "metadata": {},
   "source": [
    "#### **<font color = blue>1. Intuition: </font>**\n",
    "**<font color = blue>We can see and comprehend every route that could lead from the starting point to the desired state by examining Figure 1. It gives us a comprehensive overview of the issue and lets us explore the whole search space.</font>**\n",
    "\n",
    "#### **<font color = blue>2. Decision analysis: </font>**\n",
    "**<font color = blue>A decision point could be represented by any node in the network. For instance, there are several options available to us from node A. We can ascertain which of these paths is most likely to result in a solution by analysing them.</font>**\n",
    "\n",
    "#### **<font color = blue>3. Obstacle identification: </font>**\n",
    "**<font color = blue>Certain routes could result in undesirable outcomes or dead ends. We can recognise and stay clear of these pathways thanks to Figure 1.</font>**\n",
    "\n",
    "#### **<font color = blue>4. Efficiency: </font>**\n",
    "**<font color = blue>Because we can clearly see each node's neighbours in Figure 1, we can navigate more effectively for various search strategies, such as depth-first search or breadth-first search.</font>**\n",
    "\n",
    "#### **<font color = blue>5. Feedback and debugging:</font>** \n",
    "**<font color = blue>If we are having trouble solving a problem, graph 1 can provide us with feedback to help us identify the problem and adjust our strategy.</font>**"
   ]
  },
  {
   "cell_type": "markdown",
   "id": "bd203e9d",
   "metadata": {},
   "source": [
    "### (b) Demonstrate how Dijkstra’s algorithm would find the shortest path to the solution in Fig.1 through diagrams and written explanation of each stage."
   ]
  },
  {
   "cell_type": "markdown",
   "id": "3d5ac79f",
   "metadata": {},
   "source": [
    "<font color = blue>Calculate the shortest distance from A to all other points using Dijkstra's algorithm</font>** "
   ]
  },
  {
   "cell_type": "code",
   "execution_count": 2,
   "id": "c0237073",
   "metadata": {},
   "outputs": [],
   "source": [
    "import heapq\n",
    "\n",
    "\n",
    "def calculate_distances(graph, starting_vertex):\n",
    "     # Initialise the distance dictionary, set the distance of the start point to 0 and the rest to infinity\n",
    "    distances = {vertex: float('infinity') for vertex in graph}\n",
    "    distances[starting_vertex] = 0\n",
    "\n",
    "    \n",
    "    # Initialise the priority queue and set the start point distance to 0\n",
    "    pq = [(0, starting_vertex)]\n",
    "    while len(pq) > 0:\n",
    "        current_distance, current_vertex = heapq.heappop(pq)\n",
    "\n",
    "        # If the distance to the current point has already been calculated, skip the\n",
    "        if current_distance > distances[current_vertex]:\n",
    "            continue\n",
    "\n",
    "        for neighbor, weight in graph[current_vertex].items():\n",
    "            distance = current_distance + weight\n",
    "\n",
    "           # Update the distance value in the dictionary only if the newly calculated distance is less than the known distance\n",
    "            if distance < distances[neighbor]:\n",
    "                distances[neighbor] = distance\n",
    "                heapq.heappush(pq, (distance, neighbor))\n",
    "\n",
    "    return distances"
   ]
  },
  {
   "cell_type": "code",
   "execution_count": 3,
   "id": "4f71110c",
   "metadata": {},
   "outputs": [],
   "source": [
    "# Defining the graph based on the provided edge weights\n",
    "graph = {\n",
    "    \"A\": {\"B\": 1, \"C\": 5, \"H\": 2},\n",
    "    \"B\": {\"A\": 1, \"C\": 2, \"D\": 4},\n",
    "    \"C\": {\"A\": 5, \"B\": 2, \"G\": 1},\n",
    "    \"D\": {\"B\": 4, \"L\": 7, \"F\": 7, \"E\": 4},\n",
    "    \"E\": {\"D\": 4, \"F\": 1, \"W\": 6},\n",
    "    \"F\": {\"D\": 7, \"G\": 2, \"E\": 1},\n",
    "    \"G\": {\"C\": 1, \"L\": 3, \"F\": 2},\n",
    "    \"H\": {\"A\": 2, \"K\": 5, \"J\": 9},\n",
    "    \"J\": {\"H\": 9, \"K\": 3, \"N\": 6},\n",
    "    \"K\": {\"H\": 5, \"J\": 3, \"L\": 5},\n",
    "    \"L\": {\"K\": 5, \"N\": 3, \"M\": 4, \"G\": 3, \"D\": 7, \"W\": 8, \"V\": 10},\n",
    "    \"M\": {\"L\": 4, \"Q\": 10, \"P\": 2},\n",
    "    \"N\": {\"L\": 3, \"J\": 6, \"P\": 4, \"S\": 7},\n",
    "    \"P\": {\"N\": 4, \"M\": 2, \"R\": 5},\n",
    "    \"Q\": {\"W\": 4, \"M\": 10, \"S\": 8},\n",
    "    \"R\": {\"P\": 5, \"S\": 4, \"T\": 3},\n",
    "    \"S\": {\"Q\": 8, \"V\": 6, \"R\": 4, \"T\": 4, \"U\": 2},\n",
    "    \"T\": {\"S\": 4, \"R\": 3, \"U\": 1},\n",
    "    \"U\": {\"S\": 2, \"T\": 1, \"V\": 3},\n",
    "    \"V\": {\"L\": 10, \"S\": 6, \"U\": 3, \"W\": 5},\n",
    "    \"W\": {\"L\": 8, \"E\": 6, \"V\": 5, \"Q\": 4}\n",
    "}"
   ]
  },
  {
   "cell_type": "code",
   "execution_count": 4,
   "id": "92ae762f",
   "metadata": {},
   "outputs": [
    {
     "data": {
      "text/plain": [
       "{'A': {'B': 1, 'C': 5, 'H': 2},\n",
       " 'B': {'A': 1, 'C': 2, 'D': 4},\n",
       " 'C': {'A': 5, 'B': 2, 'G': 1},\n",
       " 'D': {'B': 4, 'L': 7, 'F': 7, 'E': 4},\n",
       " 'E': {'D': 4, 'F': 1, 'W': 6},\n",
       " 'F': {'D': 7, 'G': 2, 'E': 1},\n",
       " 'G': {'C': 1, 'L': 3, 'F': 2},\n",
       " 'H': {'A': 2, 'K': 5, 'J': 9},\n",
       " 'J': {'H': 9, 'K': 3, 'N': 6},\n",
       " 'K': {'H': 5, 'J': 3, 'L': 5},\n",
       " 'L': {'K': 5, 'N': 3, 'M': 4, 'G': 3, 'D': 7, 'W': 8, 'V': 10},\n",
       " 'M': {'L': 4, 'Q': 10, 'P': 2},\n",
       " 'N': {'L': 3, 'J': 6, 'P': 4, 'S': 7},\n",
       " 'P': {'N': 4, 'M': 2, 'R': 5},\n",
       " 'Q': {'W': 4, 'M': 10, 'S': 8},\n",
       " 'R': {'P': 5, 'S': 4, 'T': 3},\n",
       " 'S': {'Q': 8, 'V': 6, 'R': 4, 'T': 4, 'U': 2},\n",
       " 'T': {'S': 4, 'R': 3, 'U': 1},\n",
       " 'U': {'S': 2, 'T': 1, 'V': 3},\n",
       " 'V': {'L': 10, 'S': 6, 'U': 3, 'W': 5},\n",
       " 'W': {'L': 8, 'E': 6, 'V': 5, 'Q': 4}}"
      ]
     },
     "execution_count": 4,
     "metadata": {},
     "output_type": "execute_result"
    }
   ],
   "source": [
    "graph"
   ]
  },
  {
   "cell_type": "code",
   "execution_count": 5,
   "id": "57329b07",
   "metadata": {},
   "outputs": [
    {
     "name": "stdout",
     "output_type": "stream",
     "text": [
      "{'A': 0, 'B': 1, 'C': 3, 'D': 5, 'E': 7, 'F': 6, 'G': 4, 'H': 2, 'J': 10, 'K': 7, 'L': 7, 'M': 11, 'N': 10, 'P': 13, 'Q': 17, 'R': 18, 'S': 17, 'T': 20, 'U': 19, 'V': 17, 'W': 13}\n"
     ]
    }
   ],
   "source": [
    "print(calculate_distances(graph, 'A'))"
   ]
  },
  {
   "cell_type": "markdown",
   "id": "d5f9fe22",
   "metadata": {},
   "source": [
    "**<font color = blue>Based on the results above, the shortest neighbourhood distance was found for point A. Continue:</font>**"
   ]
  },
  {
   "cell_type": "markdown",
   "id": "4b6b00ec",
   "metadata": {},
   "source": [
    "**<font color = blue>Step-by-step analysis, In Fig. 1.</font>**\n",
    "\n",
    "**<font color = blue>1. starts with a distance of 0 for A and all other node distances are set to infinity.</font>**"
   ]
  },
  {
   "cell_type": "markdown",
   "id": "dcfbbceb",
   "metadata": {},
   "source": [
    "**<font color = blue>2. choose A because it has the shortest distance (0) and then has more neighbours with the new A's.</font>**"
   ]
  },
  {
   "cell_type": "code",
   "execution_count": 6,
   "id": "166e34e0",
   "metadata": {},
   "outputs": [],
   "source": [
    "distances_from_A = calculate_distances(graph, 'A')"
   ]
  },
  {
   "cell_type": "code",
   "execution_count": 7,
   "id": "87d056d0",
   "metadata": {},
   "outputs": [],
   "source": [
    "neighbors_distances = {node: distances_from_A[node] for node in graph['A'].keys()}"
   ]
  },
  {
   "cell_type": "code",
   "execution_count": 8,
   "id": "d8c59477",
   "metadata": {},
   "outputs": [],
   "source": [
    "# Get the shortest neighbour and its distance\n",
    "closest_neighbor = min(neighbors_distances, key=neighbors_distances.get)\n",
    "closest_distance = neighbors_distances[closest_neighbor]"
   ]
  },
  {
   "cell_type": "code",
   "execution_count": 9,
   "id": "b9f0d60d",
   "metadata": {},
   "outputs": [
    {
     "name": "stdout",
     "output_type": "stream",
     "text": [
      "Starting from node A, the closest neighbor is: B with a distance of: 1\n"
     ]
    }
   ],
   "source": [
    "print(f\"Starting from node A, the closest neighbor is: {closest_neighbor} with a distance of: {closest_distance}\")"
   ]
  },
  {
   "cell_type": "markdown",
   "id": "06604f05",
   "metadata": {},
   "source": [
    "**<font color = blue>3. Next, select B, as it is the shortest distance available, and update all of B's neighbours.Except for point A.</font>**"
   ]
  },
  {
   "cell_type": "code",
   "execution_count": 16,
   "id": "b7b83bf5",
   "metadata": {},
   "outputs": [
    {
     "name": "stdout",
     "output_type": "stream",
     "text": [
      "Starting from node B, the closest neighbor is: C with a distance of: 2\n"
     ]
    }
   ],
   "source": [
    "distances_from_B = calculate_distances(graph, 'B')\n",
    "\n",
    "# Extract the distances of B's direct neighbours from distances_from_B and exclude the point A\n",
    "neighbors_distances_B = {node: distances_from_B[node] for node in graph['B'].keys() if node != 'A'}\n",
    "\n",
    "# Get the shortest neighbour and its distance\n",
    "closest_neighbor_B = min(neighbors_distances_B, key=neighbors_distances_B.get)\n",
    "closest_distance_B = neighbors_distances_B[closest_neighbor_B]\n",
    "\n",
    "print(f\"Starting from node B, the closest neighbor is: {closest_neighbor_B} with a distance of: {closest_distance_B}\")"
   ]
  },
  {
   "cell_type": "markdown",
   "id": "f6f88f5f",
   "metadata": {},
   "source": [
    "**<font color = blue>4. continue this process until we reach S and determine its shortest distance.</font>**"
   ]
  },
  {
   "cell_type": "code",
   "execution_count": 17,
   "id": "fdfc0721",
   "metadata": {},
   "outputs": [
    {
     "name": "stdout",
     "output_type": "stream",
     "text": [
      "Starting from node C , the closest neighbor is: G with a distance of: 1\n"
     ]
    }
   ],
   "source": [
    "distances_from_C = calculate_distances(graph, 'C')\n",
    "\n",
    "# Extract the distances of C's direct neighbours from distances_from_C, except for points A and B\n",
    "neighbors_distances_C = {node: distances_from_C[node] for node in graph['C'].keys() if node not in ['A', 'B']}\n",
    "\n",
    "# Get the shortest neighbour and its distance\n",
    "closest_neighbor_C = min(neighbors_distances_C, key=neighbors_distances_C.get)\n",
    "closest_distance_C = neighbors_distances_C[closest_neighbor_C]\n",
    "\n",
    "print(f\"Starting from node C , the closest neighbor is: {closest_neighbor_C} with a distance of: {closest_distance_C}\")"
   ]
  },
  {
   "cell_type": "code",
   "execution_count": 18,
   "id": "db906c37",
   "metadata": {},
   "outputs": [
    {
     "name": "stdout",
     "output_type": "stream",
     "text": [
      "The weight from point G to L is: 3\n"
     ]
    }
   ],
   "source": [
    "# Extract the weight values from G to L\n",
    "weight_G_to_L = graph['G']['L']\n",
    "\n",
    "print(f\"The weight from point G to L is: {weight_G_to_L}\")"
   ]
  },
  {
   "cell_type": "code",
   "execution_count": 19,
   "id": "2ec72d8f",
   "metadata": {},
   "outputs": [
    {
     "name": "stdout",
     "output_type": "stream",
     "text": [
      "Starting from node L (excluding nodes A, B, C, and G), the closest neighbor is: N with a distance of: 3\n"
     ]
    }
   ],
   "source": [
    "distances_from_L = calculate_distances(graph, 'L')\n",
    "\n",
    "# Extract the distances of L's direct neighbours from distances_from_L and exclude points A, B, C and G\n",
    "neighbors_distances_L = {node: distances_from_L[node] for node in graph['L'].keys() if node not in ['A', 'B', 'C', 'G']}\n",
    "\n",
    "# Get the shortest neighbour and its distance\n",
    "closest_neighbor_L = min(neighbors_distances_L, key=neighbors_distances_L.get)\n",
    "closest_distance_L = neighbors_distances_L[closest_neighbor_L]\n",
    "\n",
    "print(f\"Starting from node L (excluding nodes A, B, C, and G), the closest neighbor is: {closest_neighbor_L} with a distance of: {closest_distance_L}\")"
   ]
  },
  {
   "cell_type": "code",
   "execution_count": 20,
   "id": "0daba710",
   "metadata": {},
   "outputs": [
    {
     "name": "stdout",
     "output_type": "stream",
     "text": [
      "The direct distance from node N to S is: 7\n"
     ]
    }
   ],
   "source": [
    "# Directly query the weight values between N and S\n",
    "if 'S' in graph['N']:\n",
    "    distance_N_to_S = graph['N']['S']\n",
    "    print(f\"The direct distance from node N to S is: {distance_N_to_S}\")\n",
    "else:\n",
    "    print(\"There is no direct edge from node N to S.\")"
   ]
  },
  {
   "cell_type": "markdown",
   "id": "18e901a5",
   "metadata": {},
   "source": [
    "**<font color = blue>5.The path obtained is:A->B->C->G->L->N->S. Calculate the total weight value</font>**"
   ]
  },
  {
   "cell_type": "code",
   "execution_count": 21,
   "id": "22585066",
   "metadata": {},
   "outputs": [],
   "source": [
    "closest_neighbors_weights = {\n",
    "    'A': 0,  \n",
    "    'B': 1,  \n",
    "    'C': 2,  \n",
    "    'G': 1,\n",
    "    'L': 3,\n",
    "    'N': 3,\n",
    "    'S': 7\n",
    " }"
   ]
  },
  {
   "cell_type": "code",
   "execution_count": 22,
   "id": "91937f65",
   "metadata": {},
   "outputs": [
    {
     "name": "stdout",
     "output_type": "stream",
     "text": [
      "The total weight of the shortest paths is: 17\n"
     ]
    }
   ],
   "source": [
    "total_weight = sum(closest_neighbors_weights.values())\n",
    "print(f\"The total weight of the shortest paths is: {total_weight}\")"
   ]
  },
  {
   "cell_type": "markdown",
   "id": "906a62bf",
   "metadata": {},
   "source": [
    "## 2 The creator of the puzzle has been told that the A* algorithm is more efficient at finding the shortest path because it uses heuristics. Compare the performance of Dijkstra’s algorithm and the A* search algorithm, referring to heuristics, to find the shortest path to the problem by implementing both algorithms programmatically and comparing the solutions generated in Mark-down. Refer to the complexity of the algorithms and compare the actual time it takes for the solutions to be processed."
   ]
  },
  {
   "cell_type": "markdown",
   "id": "55f131ec",
   "metadata": {},
   "source": [
    "### **<font color = blue>First, we implement Dijkstra's algorithm to return not only the shortest path distance to each point, but also the previous node at each point, so that we can reconstruct the complete path from the start to the end.</font>**"
   ]
  },
  {
   "cell_type": "code",
   "execution_count": 23,
   "id": "341c5119",
   "metadata": {},
   "outputs": [],
   "source": [
    "import heapq\n",
    "\n",
    "def dijkstra(graph, start, end):\n",
    "    shortest_path = {}\n",
    "    predecessor = {}\n",
    "    distance = {node: float('infinity') for node in graph}\n",
    "    distance[start] = 0\n",
    "    priority_queue = [(0, start)]\n",
    "\n",
    "    while priority_queue:\n",
    "        current_distance, current_node = heapq.heappop(priority_queue)\n",
    "\n",
    "        if current_node in shortest_path:\n",
    "            continue\n",
    "\n",
    "        shortest_path[current_node] = current_distance\n",
    "\n",
    "        if current_node == end:\n",
    "            break\n",
    "\n",
    "        for neighbor, weight in graph[current_node].items():\n",
    "            new_distance = current_distance + weight\n",
    "            if new_distance < distance[neighbor]:\n",
    "                predecessor[neighbor] = current_node\n",
    "                distance[neighbor] = new_distance\n",
    "                heapq.heappush(priority_queue, (new_distance, neighbor))\n",
    "\n",
    "    path = []\n",
    "    while end:\n",
    "        path.append(end)\n",
    "        end = predecessor.get(end)\n",
    "    path.reverse()\n",
    "\n",
    "    return shortest_path, path"
   ]
  },
  {
   "cell_type": "code",
   "execution_count": 24,
   "id": "4f5592ed",
   "metadata": {},
   "outputs": [
    {
     "name": "stdout",
     "output_type": "stream",
     "text": [
      "Shortest path from A to S: A -> B -> C -> G -> L -> N -> S\n",
      "Total distance: 17\n"
     ]
    }
   ],
   "source": [
    "distances, path_to_s = dijkstra(graph, 'A', 'S')\n",
    "print(f\"Shortest path from A to S: {' -> '.join(path_to_s)}\")\n",
    "print(f\"Total distance: {distances['S']}\")"
   ]
  },
  {
   "cell_type": "markdown",
   "id": "bfb71b8f",
   "metadata": {},
   "source": [
    "## Second, the A* algorithm combines the breadth-first search of Dijkstra's algorithm with the properties of heuristics to find the shortest path. The heuristic function is usually denoted as h(n), which estimates the minimum cost from node n to the goal node."
   ]
  },
  {
   "cell_type": "code",
   "execution_count": null,
   "id": "ea782ee4",
   "metadata": {},
   "outputs": [],
   "source": []
  },
  {
   "cell_type": "code",
   "execution_count": null,
   "id": "1881ecc1",
   "metadata": {},
   "outputs": [],
   "source": []
  },
  {
   "cell_type": "code",
   "execution_count": null,
   "id": "11f66a2b",
   "metadata": {},
   "outputs": [],
   "source": []
  },
  {
   "cell_type": "markdown",
   "id": "e73391b4",
   "metadata": {},
   "source": [
    "set B**<font color = blue></font>**"
   ]
  },
  {
   "cell_type": "markdown",
   "id": "e0952c1e",
   "metadata": {},
   "source": []
  }
 ],
 "metadata": {
  "kernelspec": {
   "display_name": "Python 3 (ipykernel)",
   "language": "python",
   "name": "python3"
  },
  "language_info": {
   "codemirror_mode": {
    "name": "ipython",
    "version": 3
   },
   "file_extension": ".py",
   "mimetype": "text/x-python",
   "name": "python",
   "nbconvert_exporter": "python",
   "pygments_lexer": "ipython3",
   "version": "3.9.12"
  }
 },
 "nbformat": 4,
 "nbformat_minor": 5
}
